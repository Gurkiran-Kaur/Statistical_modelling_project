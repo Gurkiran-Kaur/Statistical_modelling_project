{
 "cells": [
  {
   "cell_type": "markdown",
   "metadata": {},
   "source": [
    "Build a regression model."
   ]
  },
  {
   "cell_type": "markdown",
   "metadata": {},
   "source": [
    "Provide model output and an interpretation of the results. "
   ]
  },
  {
   "cell_type": "code",
   "execution_count": 18,
   "metadata": {
    "tags": []
   },
   "outputs": [
    {
     "name": "stdout",
     "output_type": "stream",
     "text": [
      "                            OLS Regression Results                            \n",
      "==============================================================================\n",
      "Dep. Variable:            Empty_slots   R-squared:                       0.309\n",
      "Model:                            OLS   Adj. R-squared:                  0.287\n",
      "Method:                 Least Squares   F-statistic:                     14.28\n",
      "Date:                Sun, 03 Sep 2023   Prob (F-statistic):           0.000649\n",
      "Time:                        19:27:51   Log-Likelihood:                -116.99\n",
      "No. Observations:                  34   AIC:                             238.0\n",
      "Df Residuals:                      32   BIC:                             241.0\n",
      "Df Model:                           1                                         \n",
      "Covariance Type:            nonrobust                                         \n",
      "=======================================================================================================\n",
      "                                          coef    std err          t      P>|t|      [0.025      0.975]\n",
      "-------------------------------------------------------------------------------------------------------\n",
      "const                                   3.5423      2.673      1.325      0.195      -1.903       8.987\n",
      "Shortest Yelp Distance from Station     0.0452      0.012      3.779      0.001       0.021       0.070\n",
      "==============================================================================\n",
      "Omnibus:                        8.130   Durbin-Watson:                   1.889\n",
      "Prob(Omnibus):                  0.017   Jarque-Bera (JB):                7.170\n",
      "Skew:                           0.794   Prob(JB):                       0.0277\n",
      "Kurtosis:                       4.594   Cond. No.                         448.\n",
      "==============================================================================\n",
      "\n",
      "Notes:\n",
      "[1] Standard Errors assume that the covariance matrix of the errors is correctly specified.\n"
     ]
    }
   ],
   "source": [
    "# model_building.ipynb notebook 4 - Questions in steps.\n",
    "\n",
    "## Question-1: Build a regression model.\n",
    "\n",
    "import pandas as pd\n",
    "import statsmodels.api as sm\n",
    "\n",
    "## Select relevant columns for modeling\n",
    "selected_columns = [\n",
    "    \"Shortest Yelp Distance from Station\",\n",
    "    \"Empty_slots\"\n",
    "]\n",
    "\n",
    "## Create a subset of the DataFrame with the selected columns\n",
    "data = merged_df_citybik_fsq_yelp[selected_columns]\n",
    "\n",
    "## Data Preprocessing\n",
    "### Make a copy of the data to avoid modifying the original DataFrame\n",
    "data = data.copy()\n",
    "\n",
    "### Check for missing values and drop rows with missing values\n",
    "data.dropna(inplace=True)\n",
    "\n",
    "## Split the data into independent variables (X) and the target variable (y)\n",
    "X = data[[\"Shortest Yelp Distance from Station\"]]\n",
    "y = data[\"Empty_slots\"]\n",
    "\n",
    "## Add a constant term to the independent variables for the intercept\n",
    "X = sm.add_constant(X)\n",
    "\n",
    "## Create and train a linear regression model using statsmodels\n",
    "model = sm.OLS(y, X).fit()\n",
    "\n",
    "## Print a summary of the regression model\n",
    "print(model.summary())"
   ]
  },
  {
   "cell_type": "code",
   "execution_count": null,
   "metadata": {},
   "outputs": [],
   "source": [
    "R-squared value of model is 0.309 which suggests that model explains a moderate amount of the variability in the data.\n",
    "The adjusted R-squared (Adj. R²) is 0.287, which is slightly lower than R-squared. This might be due to overfitting or there might be other variables which can be explored to improve the fitting.\n",
    "Also  with a p-value of 0.001, it can be deduced that the model is statistically significant and there is strong evidence to suggest that changes in the \"Shortest Yelp Distance from Station\" variable are associated with changes in the number of empty slots. \n",
    "In other words, the distance from the station is likely a significant predictor of the number of empty slots.\n",
    "\n",
    "\n",
    "\n",
    "\n"
   ]
  },
  {
   "cell_type": "markdown",
   "metadata": {},
   "source": [
    "# Stretch"
   ]
  },
  {
   "cell_type": "markdown",
   "metadata": {},
   "source": [
    "How can you turn the regression model into a classification model?"
   ]
  },
  {
   "cell_type": "code",
   "execution_count": null,
   "metadata": {},
   "outputs": [],
   "source": [
    "## Question-3: How can you turn the regression model into a classification model?\n",
    "\n",
    "### Define the classes\n",
    "### Class 1: Low Availability (Empty_slots <= 5), Class 2: High Availability (Empty_slots > 5)\n",
    "merged_df_citybik_fsq_yelp['Availability'] = (merged_df_citybik_fsq_yelp['Empty_slots'] <= 5).astype(int)\n",
    "\n",
    "### Create a copy of the DataFrame to avoid the SettingWithCopyWarning\n",
    "data = merged_df_citybik_fsq_yelp.copy()\n",
    "\n",
    "### Select relevant columns for modeling\n",
    "selected_columns = [\"Shortest Yelp Distance from Station\", \"Availability\"]\n",
    "data = data[selected_columns]\n",
    "\n",
    "### Data Preprocessing\n",
    "data.dropna(inplace=True)\n",
    "\n",
    "### Split the data into training and testing sets\n",
    "X = data[[\"Shortest Yelp Distance from Station\"]]\n",
    "y = data[\"Availability\"]\n",
    "X_train, X_test, y_train, y_test = train_test_split(X, y, test_size=0.2, random_state=42)\n",
    "\n",
    "### Create and train a logistic regression model\n",
    "model = LogisticRegression()\n",
    "model.fit(X_train, y_train)\n",
    "\n",
    "### Make predictions on the test set\n",
    "y_pred = model.predict(X_test)\n",
    "\n",
    "### Evaluate the classification model\n",
    "accuracy = accuracy_score(y_test, y_pred)\n",
    "\n",
    "### Set zero_division=1 to avoid UndefinedMetricWarning\n",
    "classification_rep = classification_report(y_test, y_pred, zero_division=1)\n",
    "\n",
    "print(\"Accuracy:\", accuracy)\n",
    "print(\"Classification Report:\\n\", classification_rep)\n",
    "\n",
    "### Now use this trained classification model for prediction\n",
    "### For example:\n",
    "new_data = pd.DataFrame({\n",
    "    \"Shortest Yelp Distance from Station\": [25],\n",
    "})\n",
    "predicted_class = model.predict(new_data)\n",
    "print(\"Predicted Class:\", predicted_class)"
   ]
  }
 ],
 "metadata": {
  "kernelspec": {
   "display_name": "Python 3 (ipykernel)",
   "language": "python",
   "name": "python3"
  },
  "language_info": {
   "codemirror_mode": {
    "name": "ipython",
    "version": 3
   },
   "file_extension": ".py",
   "mimetype": "text/x-python",
   "name": "python",
   "nbconvert_exporter": "python",
   "pygments_lexer": "ipython3",
   "version": "3.11.3"
  }
 },
 "nbformat": 4,
 "nbformat_minor": 4
}

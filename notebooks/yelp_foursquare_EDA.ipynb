{
 "cells": [
  {
   "cell_type": "code",
   "execution_count": null,
   "metadata": {},
   "outputs": [],
   "source": [
    "# imports\n",
    "\n",
    "import json\n",
    "import requests\n",
    "import pandas as pd\n",
    "import os"
   ]
  },
  {
   "cell_type": "markdown",
   "metadata": {},
   "source": [
    "# Foursquare"
   ]
  },
  {
   "cell_type": "markdown",
   "metadata": {},
   "source": [
    "Send a request to Foursquare with a small radius (1000m) for all the bike stations in your city of choice. "
   ]
  },
  {
   "cell_type": "code",
   "execution_count": null,
   "metadata": {},
   "outputs": [],
   "source": [
    "#yelp_foursquare_EDA.ipynb notebook 2- Questions in steps.\n",
    "\n",
    "##Question-1: Send a request to Foursquare with a small radius (1000m) for all the bike stations in your city of choice.\n",
    "\n",
    "fsq_api_key = os.environ[\"fsq_api_key\"]\n",
    "\n",
    "foursqr_headers = {\n",
    "    \"accept\": \"application/json\",\n",
    "    \"Authorization\": fsq_api_key\n",
    "}\n",
    "\n",
    "fsq_data = []\n",
    "\n",
    "for each_station in new_stations:\n",
    "    url = f\"https://api.foursquare.com/v3/places/search?ll={each_station['latitude']},{each_station['longitude']}&radius=100000&categories=10000%2C13000&fields=geocodes%2Cname%2Clocation%2Ccategories%2Cdistance%2Crating\"\n",
    "    response = requests.get(url, headers=foursqr_headers)\n",
    "    fsq_results = response.json()[\"results\"]"
   ]
  },
  {
   "cell_type": "markdown",
   "metadata": {},
   "source": [
    "Parse through the response to get the POI (such as restaurants, bars, etc) details you want (ratings, name, location, etc)"
   ]
  },
  {
   "cell_type": "code",
   "execution_count": null,
   "metadata": {},
   "outputs": [],
   "source": [
    "## Question-2: Parse through the response to get the POI (such as restaurants, bars, etc) details you want (ratings, name, location, etc).\n",
    "\n",
    "    all_fsq_pois = list()\n",
    "    for each_poi in fsq_results:\n",
    "      categories = list()\n",
    "      for category in each_poi['categories']:\n",
    "        categories.append(category['name'])\n",
    "      poi_data =  {\"POI Name\": each_poi['name'], \"Full POI Location\": each_poi['location'], \"Categories\" : categories, \"Rating\": each_poi['rating'],  \"Coordinates\": each_poi['geocodes']['main'],  \"Distance from station\": each_poi['distance']}   \n",
    "      all_fsq_pois.append(poi_data)\n",
    "        \n",
    "    ## Convert to dataframe for later use:\n",
    "    df_fsq_pois = pd.DataFrame(all_fsq_pois)    \n",
    "        \n",
    "    ## Extract the \"Distance from station\" values from all_fsq_pois\n",
    "    distances = [poi[\"Distance from station\"] for poi in all_fsq_pois]\n",
    "\n",
    "    ## Find the lowest integer value\n",
    "    lowest_distance = min(distances)\n",
    "\n",
    "    ## Create final fsq data file\n",
    "    fsq_data.append({\"Station Name\": each_station[\"Station Name\"], \"latitude\": each_station[\"latitude\"], \"longitude\": each_station[\"longitude\"], \"Num_Bikes\": each_station[\"Num_Bikes\"], \"Empty_slots\": each_station[\"Empty_slots\"], 'Foursquare POIS data': all_fsq_pois, \"Shortest FSQ Distance from Station\": lowest_distance})"
   ]
  },
  {
   "cell_type": "markdown",
   "metadata": {},
   "source": [
    "Put your parsed results into a DataFrame"
   ]
  },
  {
   "cell_type": "code",
   "execution_count": null,
   "metadata": {},
   "outputs": [],
   "source": [
    "## Question-3: Put your parsed results into a DataFrame.\n",
    "\n",
    "df_all_fsq_pois = pd.DataFrame(fsq_data)  \n",
    "print('THIS IS FOURSQUARE DATA EXTRACTED OUT ON BASIS OF CITYBIK DATA') \n",
    "print(df_all_fsq_pois)\n",
    "\n",
    "## Convert dataframe to csv for better understanding of data.\n",
    "df_all_fsq_pois.to_csv('fsqdata.csv', index=False)"
   ]
  },
  {
   "cell_type": "markdown",
   "metadata": {},
   "source": [
    "# Yelp"
   ]
  },
  {
   "cell_type": "markdown",
   "metadata": {},
   "source": [
    "Send a request to Yelp with a small radius (1000m) for all the bike stations in your city of choice. "
   ]
  },
  {
   "cell_type": "code",
   "execution_count": null,
   "metadata": {},
   "outputs": [],
   "source": [
    "## Question-4: Send a request to Yelp with a small radius (1000m) for all the bike stations in your city of choice.\n",
    "\n",
    "yelp_api_key = os.environ[\"yelp_api_key\"]\n",
    "\n",
    "yelp_header = {\"Authorization\": yelp_api_key,\n",
    "              \"accept\": \"application/json\"}\n",
    "\n",
    "yelp_data = []\n",
    "\n",
    "for each_station in new_stations:\n",
    "    url = f\"https://api.yelp.com/v3/businesses/search?latitude={each_station['latitude']}&longitude={each_station['longitude']}&radius=1000&categories=restaurant&categories=bar&categories=entertainment&sort_by=rating&limit=20\"\n",
    "    response = requests.get(url, headers=yelp_header)\n",
    "    yelp_results = response.json()[\"businesses\"]"
   ]
  },
  {
   "cell_type": "markdown",
   "metadata": {},
   "source": [
    "Parse through the response to get the POI (such as restaurants, bars, etc) details you want (ratings, name, location, etc)"
   ]
  },
  {
   "cell_type": "code",
   "execution_count": null,
   "metadata": {},
   "outputs": [],
   "source": [
    "## Question-5: Parse through the response to get the POI (such as restaurants, bars, etc) details you want (ratings, name, location, etc).\n",
    "    all_yelp_pois = list()\n",
    "    for each_poi in yelp_results:\n",
    "      categories = list()\n",
    "      for category in each_poi['categories']:\n",
    "        categories.append(category['title'])\n",
    "      poi_data =  {\"Review_count\": each_poi['review_count'], \"POI Name\": each_poi['name'], \"Full POI Location\": each_poi['location'], \"Categories\" : categories, \"Rating\": each_poi['rating'], \"Coordinates\": each_poi['coordinates'], \"Distance from station\": each_poi['distance'], \"Is_business_closed\": each_poi['is_closed']}   \n",
    "      all_yelp_pois.append(poi_data)\n",
    "      \n",
    "    ##Convert to dataframe for later use:\n",
    "    df_yelp_pois = pd.DataFrame(all_yelp_pois)\n",
    "    \n",
    "    ##Extract the \"Distance from station\" values from all_fsq_pois\n",
    "    distances = [poi[\"Distance from station\"] for poi in all_yelp_pois]\n",
    "\n",
    "    ##Find the lowest integer value\n",
    "    lowest_distance = min(distances)\n",
    "\n",
    "    ##Add the lowest_distance to fsq_data\n",
    "    yelp_data.append({\"Station Name\": each_station[\"Station Name\"], \"latitude\": each_station[\"latitude\"], \"longitude\": each_station[\"longitude\"], \"Num_Bikes\": each_station[\"Num_Bikes\"], \"Empty_slots\": each_station[\"Empty_slots\"], 'Yelp POIS data': all_yelp_pois, \"Shortest Yelp Distance from Station\": lowest_distance})"
   ]
  },
  {
   "cell_type": "markdown",
   "metadata": {},
   "source": [
    "Put your parsed results into a DataFrame"
   ]
  },
  {
   "cell_type": "code",
   "execution_count": null,
   "metadata": {},
   "outputs": [],
   "source": [
    "## Question-6: Put your parsed results into a DataFrame.\n",
    "df_all_yelp_pois = pd.DataFrame(yelp_data)  \n",
    "print('THIS IS YELP DATA EXTRACTED OUT ON BASIS OF CITYBIK DATA') \n",
    "print(df_all_yelp_pois)\n",
    "\n",
    "## Convert dataframe to csv for better understanding of data.\n",
    "df_all_yelp_pois.to_csv('yelpdata.csv', index=False)"
   ]
  },
  {
   "cell_type": "markdown",
   "metadata": {},
   "source": [
    "# Comparing Results"
   ]
  },
  {
   "cell_type": "markdown",
   "metadata": {},
   "source": [
    "Which API provided you with more complete data? Provide an explanation. "
   ]
  },
  {
   "cell_type": "markdown",
   "metadata": {},
   "source": [
    "## Question-7: Which API provided you with more complete data? Provide an explanation.\n",
    "# Clearly Yelp is better based on on the more rich information shown in above output, for example it is also telling me whether a POI is closed or not.\n",
    "# Review count is another additional key in Yelp compared to FSQ."
   ]
  },
  {
   "cell_type": "markdown",
   "metadata": {},
   "source": [
    "Get the top 10 restaurants according to their rating"
   ]
  },
  {
   "cell_type": "code",
   "execution_count": null,
   "metadata": {},
   "outputs": [],
   "source": [
    "## Question-8: Get the top 10 restaurants according to their rating.\n",
    "\n",
    "### top 10 FourSquare restaurants\n",
    "\n",
    "fsq_top_10_ratings = df_fsq_pois.sort_values(by=\"Rating\", ascending=False).head(10)\n",
    "print('FSQ top 10')\n",
    "print(fsq_top_10_ratings[[\"Rating\", \"POI Name\"]])\n",
    "\n",
    "### top 10 Yelp restaurants\n",
    "\n",
    "yelp_top_10_ratings = df_yelp_pois.sort_values(by=\"Rating\", ascending=False).head(10)\n",
    "print('Yelp top 10')\n",
    "print(yelp_top_10_ratings[[\"Rating\", \"POI Name\"]])"
   ]
  }
 ],
 "metadata": {
  "kernelspec": {
   "display_name": "Python 3 (ipykernel)",
   "language": "python",
   "name": "python3"
  },
  "language_info": {
   "codemirror_mode": {
    "name": "ipython",
    "version": 3
   },
   "file_extension": ".py",
   "mimetype": "text/x-python",
   "name": "python",
   "nbconvert_exporter": "python",
   "pygments_lexer": "ipython3",
   "version": "3.11.4"
  }
 },
 "nbformat": 4,
 "nbformat_minor": 4
}

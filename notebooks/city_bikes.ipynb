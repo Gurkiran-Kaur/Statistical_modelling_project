{
 "cells": [
  {
   "cell_type": "markdown",
   "metadata": {},
   "source": [
    "# CityBikes"
   ]
  },
  {
   "cell_type": "markdown",
   "metadata": {},
   "source": [
    "Send a request to CityBikes for the city of your choice. "
   ]
  },
  {
   "cell_type": "code",
   "execution_count": null,
   "metadata": {},
   "outputs": [],
   "source": [
    "import json\n",
    "import requests\n",
    "import pandas as pd\n",
    "import os\n",
    "\n",
    "# city_bikes.ipynb notebook 1 - Questions in steps.\n",
    "\n",
    "## Question-1: Send a request to CityBikes for the city of your choice.\n",
    "### Use Citybikes first endpoint to find whether data for particular city exists.\n",
    "\n",
    "citybikes_url = \"https://api.citybik.es/v2/networks\"\n",
    "response = requests.get(citybikes_url)\n",
    "citybikedata = response.json()\n",
    "\n",
    "city_name = \"cork\"  # Replace with the desired city name\n",
    "city_id = None\n",
    "for network in citybikedata['networks']:\n",
    "    if city_name.lower() in network['location']['city'].lower():\n",
    "        city_id = network['id']\n",
    "        break\n",
    "\n",
    "if city_id is None:\n",
    "    print(f\"No data found for {city_name}\")\n",
    "    exit()"
   ]
  },
  {
   "cell_type": "markdown",
   "metadata": {},
   "source": [
    "Parse through the response to get the details you want for the bike stations in that city (latitude, longitude, number of bikes). "
   ]
  },
  {
   "cell_type": "code",
   "execution_count": null,
   "metadata": {},
   "outputs": [],
   "source": [
    "## Question-2: Parse through the response to get the details you want for the bike stations in that city (latitude, longitude, number of bikes).  \n",
    "### Use Citybikes second endpoint.\n",
    "\n",
    "city_stations_url = f\"https://api.citybik.es/v2/networks/{city_id}\"\n",
    "response = requests.get(city_stations_url)\n",
    "stations_data = response.json()\n",
    "\n",
    "stations = stations_data['network']['stations']\n",
    "\n",
    "new_stations = list()\n",
    "\n",
    "for station in stations:\n",
    "    name = station[\"name\"]\n",
    "    latitude = station[\"latitude\"]\n",
    "    longitude = station[\"longitude\"]\n",
    "    num_bikes = station[\"free_bikes\"]\n",
    "    empty_slots = station[\"empty_slots\"]\n",
    "\n",
    "    new_stations.append({\"Station Name\": name, \"latitude\": latitude, \"longitude\": longitude, \"Num_Bikes\": num_bikes, \"Empty_slots\": empty_slots})"
   ]
  },
  {
   "cell_type": "markdown",
   "metadata": {},
   "source": [
    "Put your parsed results into a DataFrame."
   ]
  },
  {
   "cell_type": "code",
   "execution_count": null,
   "metadata": {},
   "outputs": [],
   "source": [
    "## Question-3: Put your parsed results into a DataFrame.\n",
    "df_stations = pd.DataFrame(new_stations)\n",
    "\n",
    "print(df_stations)\n",
    "\n",
    "## Convert dataframe to csv for better understanding of data.\n",
    "df_stations.to_csv('citybikedata.csv', index=False)"
   ]
  }
 ],
 "metadata": {
  "kernelspec": {
   "display_name": "Python 3 (ipykernel)",
   "language": "python",
   "name": "python3"
  },
  "language_info": {
   "codemirror_mode": {
    "name": "ipython",
    "version": 3
   },
   "file_extension": ".py",
   "mimetype": "text/x-python",
   "name": "python",
   "nbconvert_exporter": "python",
   "pygments_lexer": "ipython3",
   "version": "3.11.3"
  }
 },
 "nbformat": 4,
 "nbformat_minor": 4
}
